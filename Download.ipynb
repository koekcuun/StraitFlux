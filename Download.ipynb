{
 "cells": [
  {
   "cell_type": "markdown",
   "id": "f1516fc6-e411-48e5-b418-084db1da4a61",
   "metadata": {},
   "source": [
    "## Download CMIP6 data from ESGF\n",
    "A short sample script how to download the CMIP6 data needed for `Examples.ipynb`\n",
    "\n",
    "There are multiple ways to search for and download data from ESGF (e.g. `esgf-pyclient`).<br>\n",
    "For most of those you'll need to **register** with one the the ESGF data portals (e.g. https://esgf-node.llnl.gov/projects/esgf-llnl/)\n",
    "\n",
    "The simplest way to download the data needed for `Examples.ipynb` is using `wget` (would not recommend if multiple different models and variables are needed):"
   ]
  },
  {
   "cell_type": "code",
   "execution_count": 4,
   "id": "7371a5de-100d-4cf5-8872-5d73d75f71d2",
   "metadata": {},
   "outputs": [],
   "source": [
    "import wget"
   ]
  },
  {
   "cell_type": "markdown",
   "id": "4b6c3203-1ddc-4f9a-a133-0e81c77ef476",
   "metadata": {},
   "source": [
    "Here we'd like to download the x- and y- velocities (uo and vo), temperatures (thetao), salinities (so) and vertical cell thicknesses (thkcello) for the CanESM5 model for 2001-2014:<br>\n",
    "First we'll specify the path were to save files, **make sure to have enough storage space! (about 3.7GB needed for all needed CanESM5 files)**"
   ]
  },
  {
   "cell_type": "code",
   "execution_count": 11,
   "id": "1219bfb7-963a-4178-844a-10d6b29c1eba",
   "metadata": {},
   "outputs": [],
   "source": [
    "path = 'CMIP6/'\n",
    "import os\n",
    "os.makedirs(path,exist_ok=True)"
   ]
  },
  {
   "cell_type": "markdown",
   "id": "eeb598a6-2771-4dd4-bf91-fd598b5a0fcb",
   "metadata": {},
   "source": [
    "Further, we'll have to specify an available node and the data files to finally use wget to download the files:"
   ]
  },
  {
   "cell_type": "code",
   "execution_count": 12,
   "id": "9d6e2088-943d-4b69-8d42-6bd0f8c0f26d",
   "metadata": {
    "tags": []
   },
   "outputs": [
    {
     "name": "stdout",
     "output_type": "stream",
     "text": [
      "http://esgf-data1.llnl.gov/thredds/fileServer/css03_data/CMIP6/CMIP/CCCma/CanESM5/historical/r1i1p1f1/Omon/uo/gn/v20190429/uo_Omon_CanESM5_historical_r1i1p1f1_gn_200101-201012.nc\n",
      "CMIP6/uo_Omon_CanESM5_historical_r1i1p1f1_gn_200101-201012.nc\n",
      "downloading...\n",
      "http://esgf-data1.llnl.gov/thredds/fileServer/css03_data/CMIP6/CMIP/CCCma/CanESM5/historical/r1i1p1f1/Omon/vo/gn/v20190429/vo_Omon_CanESM5_historical_r1i1p1f1_gn_200101-201012.nc\n",
      "CMIP6/vo_Omon_CanESM5_historical_r1i1p1f1_gn_200101-201012.nc\n",
      "downloading...\n",
      "http://esgf-data1.llnl.gov/thredds/fileServer/css03_data/CMIP6/CMIP/CCCma/CanESM5/historical/r1i1p1f1/Omon/thetao/gn/v20190429/thetao_Omon_CanESM5_historical_r1i1p1f1_gn_200101-201012.nc\n",
      "CMIP6/thetao_Omon_CanESM5_historical_r1i1p1f1_gn_200101-201012.nc\n",
      "downloading...\n",
      "http://esgf-data1.llnl.gov/thredds/fileServer/css03_data/CMIP6/CMIP/CCCma/CanESM5/historical/r1i1p1f1/Omon/so/gn/v20190429/so_Omon_CanESM5_historical_r1i1p1f1_gn_200101-201012.nc\n",
      "CMIP6/so_Omon_CanESM5_historical_r1i1p1f1_gn_200101-201012.nc\n",
      "downloading...\n"
     ]
    }
   ],
   "source": [
    "var=['uo','vo','thetao','so']\n",
    "for i in var:\n",
    "    node = 'http://esgf-data1.llnl.gov/thredds/fileServer/css03_data/CMIP6/CMIP/CCCma/CanESM5/historical/r1i1p1f1/Omon/'+i+'/gn/v20190429/' #we'll use the esgf-data1.llnl.gov node\n",
    "    file = i+'_Omon_CanESM5_historical_r1i1p1f1_gn_200101-201012.nc' #uo, vo, thetao and so files for the CanESM5 model for 2001-2010\n",
    "    a = node + file\n",
    "    b = path + file\n",
    "    print(a)\n",
    "    print(b)\n",
    "    print('downloading...')\n",
    "    wget.download(a,b)"
   ]
  },
  {
   "cell_type": "markdown",
   "id": "5a01134e-9301-4642-abb7-7db115ceb0d2",
   "metadata": {},
   "source": [
    "We further need the exact vertical cell extents (thkcello):"
   ]
  },
  {
   "cell_type": "code",
   "execution_count": 13,
   "id": "5e4e3b5d-f022-4cb4-a099-680f6346c8a2",
   "metadata": {},
   "outputs": [
    {
     "name": "stdout",
     "output_type": "stream",
     "text": [
      "http://esgf3.dkrz.de/thredds/fileServer/cmip6/CMIP/CCCma/CanESM5/historical/r1i1p1f1/Ofx/thkcello/gn/v20190429/thkcello_Ofx_CanESM5_historical_r1i1p1f1_gn.nc\n",
      "CMIP6/thkcello_Ofx_CanESM5_historical_r1i1p1f1_gn.nc\n",
      "downloading...\n"
     ]
    },
    {
     "data": {
      "text/plain": [
       "'CMIP6/thkcello_Ofx_CanESM5_historical_r1i1p1f1_gn.nc'"
      ]
     },
     "execution_count": 13,
     "metadata": {},
     "output_type": "execute_result"
    }
   ],
   "source": [
    "node = 'http://esgf3.dkrz.de/thredds/fileServer/cmip6/CMIP/CCCma/CanESM5/historical/r1i1p1f1/Ofx/thkcello/gn/v20190429/' #we'll use the esgf-data1.llnl.gov node\n",
    "file = 'thkcello_Ofx_CanESM5_historical_r1i1p1f1_gn.nc' #uo, vo, thetao and so files for the CanESM5 model for 2001-2010\n",
    "a = node + file\n",
    "b = path + file\n",
    "print(a)\n",
    "print(b)\n",
    "print('downloading...')\n",
    "wget.download(a,b)"
   ]
  },
  {
   "cell_type": "markdown",
   "id": "fe22cf40-a60f-4db9-af5a-55d1e2934d6f",
   "metadata": {},
   "source": [
    "**For downloading other files you can find the respective nodes and file names on the ESGF search interface (https://esgf-node.llnl.gov/search/cmip6/)**"
   ]
  },
  {
   "cell_type": "markdown",
   "id": "ddca36d5-cf60-441d-9c39-8343206e3bc1",
   "metadata": {},
   "source": [
    "## Download Reanalyses data from OpenDAP\n",
    "The last example uses GLORYS2V4 reanalysis data obtained via the Copernicus Marine Service.<br>\n",
    "To download the data on the native grids via OpenDAP you'll have to register at: https://www.mercator-ocean.eu/en/solutions-expertise/accessing-digital-data/service-registration/ <br>\n",
    "You may than proceed to download the needed data from the OpenDAP server (https://tds.mercator-ocean.fr/thredds3/glorys2v4/glorys2v4_dbb_02.html). <br>\n",
    "The following script shows the download of the x-velocity (vozocrtx) component (**again make sure to have enough storage space! (about 16GB!! needed for all needed reanalyses files)**):"
   ]
  },
  {
   "cell_type": "code",
   "execution_count": 17,
   "id": "f6a4cb45-3e5c-4585-aeec-ab2964cf040f",
   "metadata": {},
   "outputs": [],
   "source": [
    "import xarray as xa\n",
    "import requests as rq\n",
    "from datetime import date, timedelta\n",
    "import logging\n",
    "from requests.adapters import HTTPAdapter, Retry"
   ]
  },
  {
   "cell_type": "code",
   "execution_count": 18,
   "id": "a2e82101-cea5-4f00-91b2-b2446c895de7",
   "metadata": {},
   "outputs": [],
   "source": [
    "session = rq.Session()\n",
    "session.auth = (\"YOUR_USERNAME\",\"YOUR_PASSWORD\")"
   ]
  },
  {
   "cell_type": "code",
   "execution_count": 19,
   "id": "5f7a96c4-c6b0-4e8e-912b-a9cdc240096f",
   "metadata": {},
   "outputs": [],
   "source": [
    "defs={'u':{'dir':'glorys2v4-monthly-gridU','varname':'vozocrtx','outfilenameprefix':'GLORYS2V4_uo_'},\n",
    "      'v':{'dir':'glorys2v4-monthly-gridV','varname':'vomecrty','outfilenameprefix':'GLORYS2V4_vo_'},\n",
    "      't':{'dir':'glorys2v4-monthly-gridT','varname':'votemper','outfilenameprefix':'GLORYS2V4_thetao_'}\n",
    "}"
   ]
  },
  {
   "cell_type": "code",
   "execution_count": 21,
   "id": "8e2cbb3f-ae24-47d4-8802-35d0b44af24e",
   "metadata": {},
   "outputs": [
    {
     "name": "stdout",
     "output_type": "stream",
     "text": [
      "get data u\n",
      "open data\n",
      "get data v\n",
      "open data\n",
      "get data t\n",
      "open data\n"
     ]
    }
   ],
   "source": [
    "for k in defs.keys():\n",
    "    print('get data '+k)    \n",
    "    defs[k]['store'] = xa.backends.PydapDataStore.open('http://tds.mercator-ocean.fr/thredds3/dodsC/'+\\\n",
    "                                                       defs[k]['dir']+'?nav_lon[0:1:1020][0:1:1441],nav_lat[0:1:1020][0:1:1441],deptht[0:1:74],time_counter[0:1:347],'+\\\n",
    "                                                       defs[k]['varname']+'[0:1:347][0:1:74][0:1:1020][0:1:1441]',session = session)\n",
    "    print('open data')\n",
    "    defs[k]['datapgn'] = xa.open_dataset(defs[k]['store'],decode_times=False).isel(time_counter=slice(0,12))"
   ]
  },
  {
   "cell_type": "markdown",
   "id": "9544e631-3c0a-4e2d-a7c4-5fd9cd1fcda5",
   "metadata": {},
   "source": [
    "The time_counter is given as days since 1950-01-01 00:00:00, we can convert it using xarrays decode_cf:"
   ]
  },
  {
   "cell_type": "code",
   "execution_count": 22,
   "id": "48ada4c7-d91b-4ae2-9489-d758c2d20df2",
   "metadata": {},
   "outputs": [],
   "source": [
    "for k in defs.keys():\n",
    "    defs[k]['datapgn']=xa.decode_cf(defs[k]['datapgn'])"
   ]
  },
  {
   "cell_type": "markdown",
   "id": "9072bc78-6216-45f0-b7e4-a5b66fa4a544",
   "metadata": {},
   "source": [
    "Due to the size of the individual files we'll want to save monthly files:<br>\n",
    "Note: we use the slice option to select the individual months in order to keep the time_counter dimension!"
   ]
  },
  {
   "cell_type": "code",
   "execution_count": 23,
   "id": "e3357847-a051-493a-8fe9-0ead38006f65",
   "metadata": {},
   "outputs": [],
   "source": [
    "#Specify were to save the data:\n",
    "path='Examples/'"
   ]
  },
  {
   "cell_type": "markdown",
   "id": "5268b2ab-0841-4dc5-95ef-e29ead673578",
   "metadata": {},
   "source": [
    "Note: Downloading the files needed for the example script may take 2 hours. Already existing files are not overwritten"
   ]
  },
  {
   "cell_type": "code",
   "execution_count": null,
   "id": "0ac15209-11ed-49a7-8467-6e2660c548b1",
   "metadata": {
    "collapsed": true,
    "jupyter": {
     "outputs_hidden": true
    },
    "tags": []
   },
   "outputs": [
    {
     "name": "stdout",
     "output_type": "stream",
     "text": [
      "<xarray.DataArray 'time_counter' ()>\n",
      "array('1993-01-15T00:00:00.000000000', dtype='datetime64[ns]')\n",
      "Coordinates:\n",
      "    time_counter  datetime64[ns] 1993-01-15\n",
      "Attributes:\n",
      "    standard_name:  time\n",
      "    long_name:      Time axis\n",
      "    axis:           T\n",
      "    _ChunkSizes:    512\n",
      "<xarray.DataArray 'time_counter' ()>\n",
      "array('1993-02-15T00:00:00.000000000', dtype='datetime64[ns]')\n",
      "Coordinates:\n",
      "    time_counter  datetime64[ns] 1993-02-15\n",
      "Attributes:\n",
      "    standard_name:  time\n",
      "    long_name:      Time axis\n",
      "    axis:           T\n",
      "    _ChunkSizes:    512\n",
      "<xarray.DataArray 'time_counter' ()>\n",
      "array('1993-03-15T00:00:00.000000000', dtype='datetime64[ns]')\n",
      "Coordinates:\n",
      "    time_counter  datetime64[ns] 1993-03-15\n",
      "Attributes:\n",
      "    standard_name:  time\n",
      "    long_name:      Time axis\n",
      "    axis:           T\n",
      "    _ChunkSizes:    512\n",
      "<xarray.DataArray 'time_counter' ()>\n",
      "array('1993-04-15T00:00:00.000000000', dtype='datetime64[ns]')\n",
      "Coordinates:\n",
      "    time_counter  datetime64[ns] 1993-04-15\n",
      "Attributes:\n",
      "    standard_name:  time\n",
      "    long_name:      Time axis\n",
      "    axis:           T\n",
      "    _ChunkSizes:    512\n",
      "<xarray.DataArray 'time_counter' ()>\n",
      "array('1993-05-15T00:00:00.000000000', dtype='datetime64[ns]')\n",
      "Coordinates:\n",
      "    time_counter  datetime64[ns] 1993-05-15\n",
      "Attributes:\n",
      "    standard_name:  time\n",
      "    long_name:      Time axis\n",
      "    axis:           T\n",
      "    _ChunkSizes:    512\n",
      "<xarray.DataArray 'time_counter' ()>\n",
      "array('1993-06-15T00:00:00.000000000', dtype='datetime64[ns]')\n",
      "Coordinates:\n",
      "    time_counter  datetime64[ns] 1993-06-15\n",
      "Attributes:\n",
      "    standard_name:  time\n",
      "    long_name:      Time axis\n",
      "    axis:           T\n",
      "    _ChunkSizes:    512\n",
      "<xarray.DataArray 'time_counter' ()>\n",
      "array('1993-07-15T00:00:00.000000000', dtype='datetime64[ns]')\n",
      "Coordinates:\n",
      "    time_counter  datetime64[ns] 1993-07-15\n",
      "Attributes:\n",
      "    standard_name:  time\n",
      "    long_name:      Time axis\n",
      "    axis:           T\n",
      "    _ChunkSizes:    512\n",
      "<xarray.DataArray 'time_counter' ()>\n",
      "array('1993-08-15T00:00:00.000000000', dtype='datetime64[ns]')\n",
      "Coordinates:\n",
      "    time_counter  datetime64[ns] 1993-08-15\n",
      "Attributes:\n",
      "    standard_name:  time\n",
      "    long_name:      Time axis\n",
      "    axis:           T\n",
      "    _ChunkSizes:    512\n",
      "<xarray.DataArray 'time_counter' ()>\n",
      "array('1993-09-15T00:00:00.000000000', dtype='datetime64[ns]')\n",
      "Coordinates:\n",
      "    time_counter  datetime64[ns] 1993-09-15\n",
      "Attributes:\n",
      "    standard_name:  time\n",
      "    long_name:      Time axis\n",
      "    axis:           T\n",
      "    _ChunkSizes:    512\n",
      "<xarray.DataArray 'time_counter' ()>\n",
      "array('1993-10-15T00:00:00.000000000', dtype='datetime64[ns]')\n",
      "Coordinates:\n",
      "    time_counter  datetime64[ns] 1993-10-15\n",
      "Attributes:\n",
      "    standard_name:  time\n",
      "    long_name:      Time axis\n",
      "    axis:           T\n",
      "    _ChunkSizes:    512\n",
      "<xarray.DataArray 'time_counter' ()>\n",
      "array('1993-11-15T00:00:00.000000000', dtype='datetime64[ns]')\n",
      "Coordinates:\n",
      "    time_counter  datetime64[ns] 1993-11-15\n",
      "Attributes:\n",
      "    standard_name:  time\n",
      "    long_name:      Time axis\n",
      "    axis:           T\n",
      "    _ChunkSizes:    512\n",
      "<xarray.DataArray 'time_counter' ()>\n",
      "array('1993-12-15T00:00:00.000000000', dtype='datetime64[ns]')\n",
      "Coordinates:\n",
      "    time_counter  datetime64[ns] 1993-12-15\n",
      "Attributes:\n",
      "    standard_name:  time\n",
      "    long_name:      Time axis\n",
      "    axis:           T\n",
      "    _ChunkSizes:    512\n",
      "<xarray.DataArray 'time_counter' ()>\n",
      "array('1993-01-15T00:00:00.000000000', dtype='datetime64[ns]')\n",
      "Coordinates:\n",
      "    time_counter  datetime64[ns] 1993-01-15\n",
      "Attributes:\n",
      "    standard_name:  time\n",
      "    long_name:      Time axis\n",
      "    axis:           T\n",
      "    _ChunkSizes:    512\n",
      "<xarray.DataArray 'time_counter' ()>\n",
      "array('1993-02-15T00:00:00.000000000', dtype='datetime64[ns]')\n",
      "Coordinates:\n",
      "    time_counter  datetime64[ns] 1993-02-15\n",
      "Attributes:\n",
      "    standard_name:  time\n",
      "    long_name:      Time axis\n",
      "    axis:           T\n",
      "    _ChunkSizes:    512\n",
      "<xarray.DataArray 'time_counter' ()>\n",
      "array('1993-03-15T00:00:00.000000000', dtype='datetime64[ns]')\n",
      "Coordinates:\n",
      "    time_counter  datetime64[ns] 1993-03-15\n",
      "Attributes:\n",
      "    standard_name:  time\n",
      "    long_name:      Time axis\n",
      "    axis:           T\n",
      "    _ChunkSizes:    512\n",
      "<xarray.DataArray 'time_counter' ()>\n",
      "array('1993-04-15T00:00:00.000000000', dtype='datetime64[ns]')\n",
      "Coordinates:\n",
      "    time_counter  datetime64[ns] 1993-04-15\n",
      "Attributes:\n",
      "    standard_name:  time\n",
      "    long_name:      Time axis\n",
      "    axis:           T\n",
      "    _ChunkSizes:    512\n",
      "<xarray.DataArray 'time_counter' ()>\n",
      "array('1993-05-15T00:00:00.000000000', dtype='datetime64[ns]')\n",
      "Coordinates:\n",
      "    time_counter  datetime64[ns] 1993-05-15\n",
      "Attributes:\n",
      "    standard_name:  time\n",
      "    long_name:      Time axis\n",
      "    axis:           T\n",
      "    _ChunkSizes:    512\n",
      "<xarray.DataArray 'time_counter' ()>\n",
      "array('1993-06-15T00:00:00.000000000', dtype='datetime64[ns]')\n",
      "Coordinates:\n",
      "    time_counter  datetime64[ns] 1993-06-15\n",
      "Attributes:\n",
      "    standard_name:  time\n",
      "    long_name:      Time axis\n",
      "    axis:           T\n",
      "    _ChunkSizes:    512\n",
      "<xarray.DataArray 'time_counter' ()>\n",
      "array('1993-07-15T00:00:00.000000000', dtype='datetime64[ns]')\n",
      "Coordinates:\n",
      "    time_counter  datetime64[ns] 1993-07-15\n",
      "Attributes:\n",
      "    standard_name:  time\n",
      "    long_name:      Time axis\n",
      "    axis:           T\n",
      "    _ChunkSizes:    512\n",
      "<xarray.DataArray 'time_counter' ()>\n",
      "array('1993-08-15T00:00:00.000000000', dtype='datetime64[ns]')\n",
      "Coordinates:\n",
      "    time_counter  datetime64[ns] 1993-08-15\n",
      "Attributes:\n",
      "    standard_name:  time\n",
      "    long_name:      Time axis\n",
      "    axis:           T\n",
      "    _ChunkSizes:    512\n",
      "<xarray.DataArray 'time_counter' ()>\n",
      "array('1993-09-15T00:00:00.000000000', dtype='datetime64[ns]')\n",
      "Coordinates:\n",
      "    time_counter  datetime64[ns] 1993-09-15\n",
      "Attributes:\n",
      "    standard_name:  time\n",
      "    long_name:      Time axis\n",
      "    axis:           T\n",
      "    _ChunkSizes:    512\n",
      "<xarray.DataArray 'time_counter' ()>\n",
      "array('1993-10-15T00:00:00.000000000', dtype='datetime64[ns]')\n",
      "Coordinates:\n",
      "    time_counter  datetime64[ns] 1993-10-15\n",
      "Attributes:\n",
      "    standard_name:  time\n",
      "    long_name:      Time axis\n",
      "    axis:           T\n",
      "    _ChunkSizes:    512\n",
      "<xarray.DataArray 'time_counter' ()>\n",
      "array('1993-11-15T00:00:00.000000000', dtype='datetime64[ns]')\n",
      "Coordinates:\n",
      "    time_counter  datetime64[ns] 1993-11-15\n",
      "Attributes:\n",
      "    standard_name:  time\n",
      "    long_name:      Time axis\n",
      "    axis:           T\n",
      "    _ChunkSizes:    512\n",
      "<xarray.DataArray 'time_counter' ()>\n",
      "array('1993-12-15T00:00:00.000000000', dtype='datetime64[ns]')\n",
      "Coordinates:\n",
      "    time_counter  datetime64[ns] 1993-12-15\n",
      "Attributes:\n",
      "    standard_name:  time\n",
      "    long_name:      Time axis\n",
      "    axis:           T\n",
      "    _ChunkSizes:    512\n",
      "<xarray.DataArray 'time_counter' ()>\n",
      "array('1993-01-15T00:00:00.000000000', dtype='datetime64[ns]')\n",
      "Coordinates:\n",
      "    time_counter  datetime64[ns] 1993-01-15\n",
      "Attributes:\n",
      "    standard_name:  time\n",
      "    long_name:      Time axis\n",
      "    axis:           T\n",
      "    _ChunkSizes:    512\n",
      "<xarray.DataArray 'time_counter' ()>\n",
      "array('1993-02-15T00:00:00.000000000', dtype='datetime64[ns]')\n",
      "Coordinates:\n",
      "    time_counter  datetime64[ns] 1993-02-15\n",
      "Attributes:\n",
      "    standard_name:  time\n",
      "    long_name:      Time axis\n",
      "    axis:           T\n",
      "    _ChunkSizes:    512\n",
      "<xarray.DataArray 'time_counter' ()>\n",
      "array('1993-03-15T00:00:00.000000000', dtype='datetime64[ns]')\n",
      "Coordinates:\n",
      "    time_counter  datetime64[ns] 1993-03-15\n",
      "Attributes:\n",
      "    standard_name:  time\n",
      "    long_name:      Time axis\n",
      "    axis:           T\n",
      "    _ChunkSizes:    512\n",
      "<xarray.DataArray 'time_counter' ()>\n",
      "array('1993-04-15T00:00:00.000000000', dtype='datetime64[ns]')\n",
      "Coordinates:\n",
      "    time_counter  datetime64[ns] 1993-04-15\n",
      "Attributes:\n",
      "    standard_name:  time\n",
      "    long_name:      Time axis\n",
      "    axis:           T\n",
      "    _ChunkSizes:    512\n",
      "<xarray.DataArray 'time_counter' ()>\n",
      "array('1993-05-15T00:00:00.000000000', dtype='datetime64[ns]')\n",
      "Coordinates:\n",
      "    time_counter  datetime64[ns] 1993-05-15\n",
      "Attributes:\n",
      "    standard_name:  time\n",
      "    long_name:      Time axis\n",
      "    axis:           T\n",
      "    _ChunkSizes:    512\n",
      "<xarray.DataArray 'time_counter' ()>\n",
      "array('1993-06-15T00:00:00.000000000', dtype='datetime64[ns]')\n",
      "Coordinates:\n",
      "    time_counter  datetime64[ns] 1993-06-15\n",
      "Attributes:\n",
      "    standard_name:  time\n",
      "    long_name:      Time axis\n",
      "    axis:           T\n",
      "    _ChunkSizes:    512\n",
      "<xarray.DataArray 'time_counter' ()>\n",
      "array('1993-07-15T00:00:00.000000000', dtype='datetime64[ns]')\n",
      "Coordinates:\n",
      "    time_counter  datetime64[ns] 1993-07-15\n",
      "Attributes:\n",
      "    standard_name:  time\n",
      "    long_name:      Time axis\n",
      "    axis:           T\n",
      "    _ChunkSizes:    512\n",
      "<xarray.DataArray 'time_counter' ()>\n",
      "array('1993-08-15T00:00:00.000000000', dtype='datetime64[ns]')\n",
      "Coordinates:\n",
      "    time_counter  datetime64[ns] 1993-08-15\n",
      "Attributes:\n",
      "    standard_name:  time\n",
      "    long_name:      Time axis\n",
      "    axis:           T\n",
      "    _ChunkSizes:    512\n",
      "<xarray.DataArray 'time_counter' ()>\n",
      "array('1993-09-15T00:00:00.000000000', dtype='datetime64[ns]')\n",
      "Coordinates:\n",
      "    time_counter  datetime64[ns] 1993-09-15\n",
      "Attributes:\n",
      "    standard_name:  time\n",
      "    long_name:      Time axis\n",
      "    axis:           T\n",
      "    _ChunkSizes:    512\n",
      "<xarray.DataArray 'time_counter' ()>\n",
      "array('1993-10-15T00:00:00.000000000', dtype='datetime64[ns]')\n",
      "Coordinates:\n",
      "    time_counter  datetime64[ns] 1993-10-15\n",
      "Attributes:\n",
      "    standard_name:  time\n",
      "    long_name:      Time axis\n",
      "    axis:           T\n",
      "    _ChunkSizes:    512\n",
      "<xarray.DataArray 'time_counter' ()>\n",
      "array('1993-11-15T00:00:00.000000000', dtype='datetime64[ns]')\n",
      "Coordinates:\n",
      "    time_counter  datetime64[ns] 1993-11-15\n",
      "Attributes:\n",
      "    standard_name:  time\n",
      "    long_name:      Time axis\n",
      "    axis:           T\n",
      "    _ChunkSizes:    512\n",
      "<xarray.DataArray 'time_counter' ()>\n",
      "array('1993-12-15T00:00:00.000000000', dtype='datetime64[ns]')\n",
      "Coordinates:\n",
      "    time_counter  datetime64[ns] 1993-12-15\n",
      "Attributes:\n",
      "    standard_name:  time\n",
      "    long_name:      Time axis\n",
      "    axis:           T\n",
      "    _ChunkSizes:    512\n"
     ]
    }
   ],
   "source": [
    "import os\n",
    "for k in defs.keys():\n",
    "    for j in range(len(defs[k]['datapgn'].time_counter)):\n",
    "        d=defs[k]['datapgn']\n",
    "        ofile=path+defs[k]['outfilenameprefix']+str(d.time_counter[j].dt.year.values)+'-'+str(d.time_counter[j].dt.month.values)+'.nc'\n",
    "        print(d.time_counter[j])\n",
    "        if not os.path.exists(ofile):\n",
    "            d.sel(time_counter=slice(d.time_counter[j],d.time_counter[j])).to_netcdf(ofile)"
   ]
  },
  {
   "cell_type": "markdown",
   "id": "4c9bd62a-04d6-4ceb-9221-1adef03531a3",
   "metadata": {},
   "source": [
    "For the cell thicknesses we've created a `mesh_e3t_field.nc`, which you may download from zenodo:"
   ]
  },
  {
   "cell_type": "code",
   "execution_count": 9,
   "id": "a78bcd7f-8f7c-4bd8-bae3-9fc6e0a66b54",
   "metadata": {},
   "outputs": [],
   "source": [
    "# download the cell thickness data\n",
    "import urllib.request\n",
    "import shutil\n",
    "\n",
    "url = 'https://zenodo.org/records/10376250/files/'\n",
    "file_name_z = 'mesh_e3t_field.nc'\n",
    "with urllib.request.urlopen(url + file_name_z) as response, open(file_name_z, 'wb') as out_file:\n",
    "    shutil.copyfileobj(response, out_file)\n",
    "\n",
    "z = xa.open_dataset(file_name_z)"
   ]
  },
  {
   "cell_type": "code",
   "execution_count": 10,
   "id": "72dbfa5d-b8c8-43b8-adb6-6601fbd6a743",
   "metadata": {
    "tags": []
   },
   "outputs": [],
   "source": [
    "z.to_netcdf(path+'mesh_e3t_field.nc')"
   ]
  },
  {
   "cell_type": "code",
   "execution_count": null,
   "id": "91ba401a-337d-4af6-a6f7-9c0534767b54",
   "metadata": {},
   "outputs": [],
   "source": []
  }
 ],
 "metadata": {
  "kernelspec": {
   "display_name": " IPY 2022.0.2.155 - 3.9.7",
   "language": "python",
   "name": "intelpy2022.0.2.155"
  },
  "language_info": {
   "codemirror_mode": {
    "name": "ipython",
    "version": 3
   },
   "file_extension": ".py",
   "mimetype": "text/x-python",
   "name": "python",
   "nbconvert_exporter": "python",
   "pygments_lexer": "ipython3",
   "version": "3.9.7"
  }
 },
 "nbformat": 4,
 "nbformat_minor": 5
}
